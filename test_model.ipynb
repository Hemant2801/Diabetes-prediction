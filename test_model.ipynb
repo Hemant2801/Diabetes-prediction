{
 "cells": [
  {
   "cell_type": "code",
   "execution_count": 1,
   "id": "72fdc70a",
   "metadata": {},
   "outputs": [],
   "source": [
    "import numpy as np\n",
    "import pickle"
   ]
  },
  {
   "cell_type": "code",
   "execution_count": 3,
   "id": "a52e3e6e",
   "metadata": {},
   "outputs": [],
   "source": [
    "loaded_model = pickle.load(open('Trained_model.sav', 'rb'))"
   ]
  },
  {
   "cell_type": "code",
   "execution_count": 9,
   "id": "72635b66",
   "metadata": {},
   "outputs": [
    {
     "name": "stdout",
     "output_type": "stream",
     "text": [
      "0,137,40,35,168,43.1,2.288,33\n",
      "[1]\n",
      "DIABETIC\n"
     ]
    }
   ],
   "source": [
    "input_data = input()\n",
    "input_array = [float(i) for i in input_data.split(',')]\n",
    "\n",
    "#convert the input into numpy array\n",
    "input_array = np.asarray(input_array)\n",
    "\n",
    "#reshape the array as we are predicting only on one instance\n",
    "reshaped_array = input_array.reshape(1, -1)\n",
    "\n",
    "#prediction\n",
    "prediction = loaded_model.predict(reshaped_array)\n",
    "print(prediction)\n",
    "if prediction == 0:\n",
    "    print('NON-DIABETIC')\n",
    "else:\n",
    "    print('DIABETIC')\n"
   ]
  },
  {
   "cell_type": "code",
   "execution_count": null,
   "id": "0c5fcbd2",
   "metadata": {},
   "outputs": [],
   "source": []
  }
 ],
 "metadata": {
  "kernelspec": {
   "display_name": "Python 3",
   "language": "python",
   "name": "python3"
  },
  "language_info": {
   "codemirror_mode": {
    "name": "ipython",
    "version": 3
   },
   "file_extension": ".py",
   "mimetype": "text/x-python",
   "name": "python",
   "nbconvert_exporter": "python",
   "pygments_lexer": "ipython3",
   "version": "3.8.8"
  }
 },
 "nbformat": 4,
 "nbformat_minor": 5
}
